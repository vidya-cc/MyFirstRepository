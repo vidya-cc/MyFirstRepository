{
 "cells": [
  {
   "cell_type": "code",
   "execution_count": 7,
   "id": "056961b3",
   "metadata": {},
   "outputs": [],
   "source": [
    "import pandas as pd"
   ]
  },
  {
   "cell_type": "code",
   "execution_count": 22,
   "id": "b73c0101",
   "metadata": {},
   "outputs": [
    {
     "data": {
      "text/plain": [
       "[0, 2]"
      ]
     },
     "execution_count": 22,
     "metadata": {},
     "output_type": "execute_result"
    }
   ],
   "source": [
    "def twoSum(nums, target):\n",
    "    i=0\n",
    "    j=1\n",
    "    for i in range(len(nums)):\n",
    "        for j in range(i+1,len(nums)):\n",
    "            if nums[i]+nums[j] == target:\n",
    "                return [i,j]\n",
    "    return []\n",
    "\n",
    "twoSum([2,3,7,8],9)"
   ]
  },
  {
   "cell_type": "code",
   "execution_count": null,
   "id": "6ee8aba6",
   "metadata": {},
   "outputs": [],
   "source": [
    "# Definition for singly-linked list.\n",
    "# class ListNode:\n",
    "#     def __init__(self, val=0, next=None):\n",
    "#         self.val = val\n",
    "#         self.next = next\n",
    "#class Solution:\n",
    "\n",
    "def addTwoNumbers(l1, l2):\n",
    "    headnode = ListNode()  # Dummy node to keep track of the head of the resulting linked list\n",
    "    current = headnode  # Current node in the resulting linked list\n",
    "    carry = 0  # Variable to store the carry-over\n",
    "\n",
    "    while l1 or l2 or carry:\n",
    "        # Get the values of the current digits or 0 if a list is exhausted\n",
    "        val1 = l1.val if l1 else 0\n",
    "        val2 = l2.val if l2 else 0\n",
    "\n",
    "        # Calculate the sum of the digits and the carry-over\n",
    "        total = val1 + val2 + carry\n",
    "        carry = total // 10\n",
    "        digit = total % 10\n",
    "\n",
    "        # Create a new node with the resulting digit\n",
    "        curr.next = ListNode(digit)\n",
    "        curr = curr.next\n",
    "\n",
    "        # Move to the next nodes in the input lists\n",
    "        l1 = l1.next if l1 else None\n",
    "        l2 = l2.next if l2 else None\n",
    "\n",
    "    return dummy.next "
   ]
  },
  {
   "cell_type": "code",
   "execution_count": 63,
   "id": "09250e47",
   "metadata": {},
   "outputs": [],
   "source": [
    "def lengthOfLongestSubstring(string):\n",
    "    slength = len(s)\n",
    "    start = 0\n",
    "    end = 0\n",
    "    maxslen = 0\n",
    "    checked = set()\n",
    "    while end < slength:\n",
    "        if s[end] not in checked:\n",
    "            checked.add(s[end])\n",
    "            length = end -start +1\n",
    "            max_length = max(max_lenght,length)\n",
    "            end+=1\n",
    "        else:\n",
    "            checked.remove(s[])"
   ]
  },
  {
   "cell_type": "code",
   "execution_count": null,
   "id": "bfd43a83",
   "metadata": {},
   "outputs": [],
   "source": [
    "    n = len(s)\n",
    "    start = 0\n",
    "    end = 0\n",
    "    max_length = 0\n",
    "    seen = set()\n",
    "\n",
    "    while end < n:\n",
    "        if s[end] not in seen:\n",
    "            seen.add(s[end])\n",
    "            length = end - start + 1\n",
    "            max_length = max(max_length, length)\n",
    "            end += 1\n",
    "        else:\n",
    "            seen.remove(s[start])\n",
    "            start += 1\n",
    "\n",
    "    return max_length"
   ]
  },
  {
   "cell_type": "code",
   "execution_count": 64,
   "id": "0697b862",
   "metadata": {},
   "outputs": [
    {
     "data": {
      "text/plain": [
       "[7, 6, 9, 1]"
      ]
     },
     "execution_count": 64,
     "metadata": {},
     "output_type": "execute_result"
    }
   ],
   "source": [
    "lengthOfLongestSubstring('lophkskjlpqabh')                   "
   ]
  }
 ],
 "metadata": {
  "kernelspec": {
   "display_name": "Python 3",
   "language": "python",
   "name": "python3"
  },
  "language_info": {
   "codemirror_mode": {
    "name": "ipython",
    "version": 3
   },
   "file_extension": ".py",
   "mimetype": "text/x-python",
   "name": "python",
   "nbconvert_exporter": "python",
   "pygments_lexer": "ipython3",
   "version": "3.8.8"
  }
 },
 "nbformat": 4,
 "nbformat_minor": 5
}
